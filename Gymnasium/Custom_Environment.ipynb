{
 "cells": [
  {
   "cell_type": "code",
   "execution_count": 1,
   "id": "64dfad17-8460-44e3-8857-752dc710099e",
   "metadata": {},
   "outputs": [],
   "source": [
    "# pip install copier\n",
    "# copier copy https://github.com/Farama-Foundation/gymnasium-env-template.git \"path/to/directory\"\n",
    "\n",
    "# pip install -e ."
   ]
  },
  {
   "cell_type": "code",
   "execution_count": 1,
   "id": "d9dce729-6ee4-4061-88ea-df31d03b8739",
   "metadata": {},
   "outputs": [],
   "source": [
    "import gymnasium\n",
    "import gymnasium_env"
   ]
  },
  {
   "cell_type": "code",
   "execution_count": 2,
   "id": "4e634a1a-2069-4826-86b9-58a23b96f2fb",
   "metadata": {},
   "outputs": [],
   "source": [
    "env = gymnasium.make('gymnasium_env/GridWorld-v0', size=10)"
   ]
  },
  {
   "cell_type": "markdown",
   "id": "978198cd-1f79-43d6-bcaf-a14b18339424",
   "metadata": {},
   "source": [
    "### Using Wrappers"
   ]
  },
  {
   "cell_type": "code",
   "execution_count": 3,
   "id": "3ac73ebb-3275-4d0e-9cd4-1724d545cbd9",
   "metadata": {},
   "outputs": [
    {
     "name": "stdout",
     "output_type": "stream",
     "text": [
      "(array([2, 1, 1, 2]), {'distance': np.float64(2.0)})\n"
     ]
    }
   ],
   "source": [
    "from gymnasium.wrappers import FlattenObservation\n",
    "\n",
    "env = gymnasium.make('gymnasium_env/GridWorld-v0')\n",
    "wrappersped_env = FlattenObservation(env)\n",
    "print(wrappersped_env.reset())"
   ]
  },
  {
   "cell_type": "code",
   "execution_count": 5,
   "id": "55a13076-08c5-4c93-92bd-2009ad972225",
   "metadata": {},
   "outputs": [
    {
     "name": "stdout",
     "output_type": "stream",
     "text": [
      "(array([-3,  1]), {'distance': np.float64(4.0)})\n"
     ]
    }
   ],
   "source": [
    "from gymnasium_env.wrappers import RelativePosition\n",
    "\n",
    "env = gymnasium.make('gymnasium_env/GridWorld-v0')\n",
    "wrapped_env = RelativePosition(env)\n",
    "print(wrapped_env.reset()) "
   ]
  }
 ],
 "metadata": {
  "kernelspec": {
   "display_name": "Python (RL)",
   "language": "python",
   "name": "your_env_name"
  },
  "language_info": {
   "codemirror_mode": {
    "name": "ipython",
    "version": 3
   },
   "file_extension": ".py",
   "mimetype": "text/x-python",
   "name": "python",
   "nbconvert_exporter": "python",
   "pygments_lexer": "ipython3",
   "version": "3.12.3"
  }
 },
 "nbformat": 4,
 "nbformat_minor": 5
}
