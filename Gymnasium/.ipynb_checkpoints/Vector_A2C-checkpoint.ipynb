{
 "cells": [
  {
   "cell_type": "markdown",
   "metadata": {},
   "source": [
    "\n",
    "# Speeding up A2C Training with Vector Envs"
   ]
  },
  {
   "cell_type": "markdown",
   "metadata": {},
   "source": [
    "## Introduction\n",
    "\n",
    "How to use vectorized environments to train an Advantage Actor-Critic agent.\n",
    "We are going to use A2C, which is the synchronous version of the A3C algorithm.\n",
    "\n",
    "Vectorized environments can help to achieve quicker and more robust training by allowing multiple instances\n",
    "of the same environment to run in parallel (on multiple CPUs). This can significantly reduce the variance and thus speeds up the training.\n",
    "\n",
    "We will implement an Advantage Actor-Critic from scratch to look at how you can feed batched states into your networks to get a vector of actions\n",
    "(one action per environment) and calculate the losses for actor and critic on minibatches of transitions.\n",
    "Each minibatch contains the transitions of one sampling phase: `n_steps_per_update` steps are executed in `n_envs` environments in parallel\n",
    "(multiply the two to get the number of transitions in a minibatch). After each sampling phase,  the losses are calculated and one gradient step is executed.\n",
    "To calculate the advantages, we are going to use the Generalized Advantage Estimation (GAE) method, which balances the tradeoff\n",
    "between variance and bias of the advantage estimates.\n",
    "\n",
    "The A2C agent class is initialized with the number of features of the input state, the number of actions the agent can take,\n",
    "the learning rates and the number of environments that run in parallel to collect experiences. The actor and critic networks are defined\n",
    "and their respective optimizers are initialized. The forward pass of the networks takes in a batched vector of states and returns a tensor of state values\n",
    "and a tensor of action logits. The select_action method returns a tuple of the chosen actions, the log-probs of those actions, and the state values for each action.\n",
    "In addition, it also returns the entropy of the policy distribution, which is subtracted from the loss later (with a weighting factor `ent_coef`) to encourage exploration.\n",
    "\n",
    "The get_losses function calculates the losses for the actor and critic networks (using GAE), which are then updated using the update_parameters function."
   ]
  },
  {
   "cell_type": "code",
   "execution_count": 1,
   "metadata": {
    "collapsed": false,
    "jupyter": {
     "outputs_hidden": false
    }
   },
   "outputs": [],
   "source": [
    "from __future__ import annotations\n",
    "\n",
    "import os\n",
    "\n",
    "import matplotlib.pyplot as plt\n",
    "import numpy as np\n",
    "import torch\n",
    "import torch.nn as nn\n",
    "from torch import optim\n",
    "from tqdm import tqdm\n",
    "\n",
    "import gymnasium as gym"
   ]
  },
  {
   "cell_type": "markdown",
   "metadata": {},
   "source": [
    "## Advantage Actor-Critic (A2C)\n",
    "\n",
    "The Actor-Critic combines elements of value-based and policy-based methods. In A2C, the agent has two separate neural networks:\n",
    "a critic network that estimates the state-value function, and an actor network that outputs logits for a categorical probability distribution over all actions.\n",
    "The critic network is trained to minimize the mean squared error between the predicted state values and the actual returns received by the agent\n",
    "(this is equivalent to minimizing the squared advantages, because the advantage of an action is as the difference between the return and the state-value: A(s,a) = Q(s,a) - V(s).\n",
    "The actor network is trained to maximize the expected return by selecting actions that have high expected values according to the critic network.\n",
    "\n",
    "The focus of this tutorial will not be on the details of A2C itself. Instead, the tutorial will focus on how to use vectorized environments\n",
    "and domain randomization to accelerate the training process for A2C (and other reinforcement learning algorithms).\n",
    "\n",
    "\n"
   ]
  },
  {
   "cell_type": "code",
   "execution_count": 3,
   "metadata": {
    "collapsed": false,
    "jupyter": {
     "outputs_hidden": false
    }
   },
   "outputs": [],
   "source": [
    "class A2C(nn.Module):\n",
    "    \"\"\"\n",
    "    (Synchronous) Advantage Actor-Critic agent class\n",
    "\n",
    "    Args:\n",
    "        n_features: The number of features of the input state.\n",
    "        n_actions: The number of actions the agent can take.\n",
    "        device: The device to run the computations on (running on a GPU might be quicker for larger Neural Nets,\n",
    "                for this code CPU is totally fine).\n",
    "        critic_lr: The learning rate for the critic network (should usually be larger than the actor_lr).\n",
    "        actor_lr: The learning rate for the actor network.\n",
    "        n_envs: The number of environments that run in parallel (on multiple CPUs) to collect experiences.\n",
    "    \"\"\"\n",
    "\n",
    "    def __init__(\n",
    "        self,\n",
    "        n_features: int,\n",
    "        n_actions: int,\n",
    "        device: torch.device,\n",
    "        critic_lr: float,\n",
    "        actor_lr: float,\n",
    "        n_envs: int,\n",
    "    ) -> None:\n",
    "        \"\"\"Initializes the actor and critic networks and their respective optimizers.\"\"\"\n",
    "        super().__init__()\n",
    "        self.device = device\n",
    "        self.n_envs = n_envs\n",
    "\n",
    "        critic_layers = [\n",
    "            nn.Linear(n_features, 32),\n",
    "            nn.ReLU(),\n",
    "            nn.Linear(32, 32),\n",
    "            nn.ReLU(),\n",
    "            nn.Linear(32, 1),  # estimate V(s)\n",
    "        ]\n",
    "\n",
    "        actor_layers = [\n",
    "            nn.Linear(n_features, 32),\n",
    "            nn.ReLU(),\n",
    "            nn.Linear(32, 32),\n",
    "            nn.ReLU(),\n",
    "            nn.Linear(32, n_actions),  # estimate action logits (will be fed into a softmax later)\n",
    "        ]\n",
    "\n",
    "        # define actor and critic networks\n",
    "        self.critic = nn.Sequential(*critic_layers).to(self.device)\n",
    "        self.actor = nn.Sequential(*actor_layers).to(self.device)\n",
    "\n",
    "        # define optimizers for actor and critic\n",
    "        self.critic_optim = optim.RMSprop(self.critic.parameters(), lr=critic_lr)\n",
    "        self.actor_optim = optim.RMSprop(self.actor.parameters(), lr=actor_lr)\n",
    "\n",
    "    def forward(self, x: np.ndarray) -> tuple[torch.Tensor, torch.Tensor]:\n",
    "        \"\"\"\n",
    "        Forward pass of the networks.\n",
    "\n",
    "        Args:\n",
    "            x: A batched vector of states.\n",
    "\n",
    "        Returns:\n",
    "            state_values: A tensor with the state values, with shape [n_envs,].\n",
    "            action_logits_vec: A tensor with the action logits, with shape [n_envs, n_actions].\n",
    "        \"\"\"\n",
    "        x = torch.Tensor(x).to(self.device)\n",
    "        state_values = self.critic(x)  # shape: [n_envs,]\n",
    "        action_logits_vec = self.actor(x)  # shape: [n_envs, n_actions]\n",
    "        return (state_values, action_logits_vec)\n",
    "\n",
    "    def select_action(\n",
    "        self, x: np.ndarray\n",
    "    ) -> tuple[torch.Tensor, torch.Tensor, torch.Tensor, torch.Tensor]:\n",
    "        \"\"\"\n",
    "        Returns a tuple of the chosen actions and the log-probs of those actions.\n",
    "\n",
    "        Args:\n",
    "            x: A batched vector of states.\n",
    "\n",
    "        Returns:\n",
    "            actions: A tensor with the actions, with shape [n_steps_per_update, n_envs].\n",
    "            action_log_probs: A tensor with the log-probs of the actions, with shape [n_steps_per_update, n_envs].\n",
    "            state_values: A tensor with the state values, with shape [n_steps_per_update, n_envs].\n",
    "        \"\"\"\n",
    "        state_values, action_logits = self.forward(x)\n",
    "        action_pd = torch.distributions.Categorical(\n",
    "            logits=action_logits\n",
    "        )  # implicitly uses softmax\n",
    "        actions = action_pd.sample()\n",
    "        action_log_probs = action_pd.log_prob(actions)\n",
    "        entropy = action_pd.entropy()\n",
    "        return actions, action_log_probs, state_values, entropy\n",
    "\n",
    "    def get_losses(\n",
    "        self,\n",
    "        rewards: torch.Tensor,\n",
    "        action_log_probs: torch.Tensor,\n",
    "        value_preds: torch.Tensor,\n",
    "        entropy: torch.Tensor,\n",
    "        masks: torch.Tensor,\n",
    "        gamma: float,\n",
    "        lam: float,\n",
    "        ent_coef: float,\n",
    "        device: torch.device,\n",
    "    ) -> tuple[torch.Tensor, torch.Tensor]:\n",
    "        \"\"\"\n",
    "        Computes the loss of a minibatch (transitions collected in one sampling phase) for actor and critic\n",
    "        using Generalized Advantage Estimation (GAE) to compute the advantages (https://arxiv.org/abs/1506.02438).\n",
    "\n",
    "        Args:\n",
    "            rewards: A tensor with the rewards for each time step in the episode, with shape [n_steps_per_update, n_envs].\n",
    "            action_log_probs: A tensor with the log-probs of the actions taken at each time step in the episode, with shape [n_steps_per_update, n_envs].\n",
    "            value_preds: A tensor with the state value predictions for each time step in the episode, with shape [n_steps_per_update, n_envs].\n",
    "            masks: A tensor with the masks for each time step in the episode, with shape [n_steps_per_update, n_envs].\n",
    "            gamma: The discount factor.\n",
    "            lam: The GAE hyperparameter. (lam=1 corresponds to Monte-Carlo sampling with high variance and no bias,\n",
    "                                          and lam=0 corresponds to normal TD-Learning that has a low variance but is biased\n",
    "                                          because the estimates are generated by a Neural Net).\n",
    "            device: The device to run the computations on (e.g. CPU or GPU).\n",
    "\n",
    "        Returns:\n",
    "            critic_loss: The critic loss for the minibatch.\n",
    "            actor_loss: The actor loss for the minibatch.\n",
    "        \"\"\"\n",
    "        T = len(rewards)\n",
    "        advantages = torch.zeros(T, self.n_envs, device=device)\n",
    "\n",
    "        # compute the advantages using GAE\n",
    "        gae = 0.0\n",
    "        for t in reversed(range(T - 1)):\n",
    "            td_error = (\n",
    "                rewards[t] + gamma * masks[t] * value_preds[t + 1] - value_preds[t]\n",
    "            )\n",
    "            gae = td_error + gamma * lam * masks[t] * gae\n",
    "            advantages[t] = gae\n",
    "\n",
    "        # calculate the loss of the minibatch for actor and critic\n",
    "        critic_loss = advantages.pow(2).mean()\n",
    "\n",
    "        # give a bonus for higher entropy to encourage exploration\n",
    "        actor_loss = (\n",
    "            -(advantages.detach() * action_log_probs).mean() - ent_coef * entropy.mean()\n",
    "        )\n",
    "        return (critic_loss, actor_loss)\n",
    "\n",
    "    def update_parameters(\n",
    "        self, critic_loss: torch.Tensor, actor_loss: torch.Tensor\n",
    "    ) -> None:\n",
    "        \"\"\"\n",
    "        Updates the parameters of the actor and critic networks.\n",
    "\n",
    "        Args:\n",
    "            critic_loss: The critic loss.\n",
    "            actor_loss: The actor loss.\n",
    "        \"\"\"\n",
    "        self.critic_optim.zero_grad()\n",
    "        critic_loss.backward()\n",
    "        self.critic_optim.step()\n",
    "\n",
    "        self.actor_optim.zero_grad()\n",
    "        actor_loss.backward()\n",
    "        self.actor_optim.step()"
   ]
  },
  {
   "cell_type": "markdown",
   "metadata": {},
   "source": [
    "## Using Vectorized Environments\n",
    "\n",
    "When you calculate the losses for the two Neural Networks over only one epoch, it might have a high variance. With vectorized environments,\n",
    "we can play with `n_envs` in parallel and thus get up to a linear speedup (meaning that in theory, we collect samples `n_envs` times quicker)\n",
    "that we can use to calculate the loss for the current policy and critic network. When we are using more samples to calculate the loss,\n",
    "it will have a lower variance and theirfore leads to quicker learning.\n",
    "\n",
    "A2C is a synchronous method, meaning that the parameter updates to Networks take place deterministically (after each sampling phase),\n",
    "but we can still make use of asynchronous vector envs to spawn multiple processes for parallel environment execution.\n",
    "\n",
    "The simplest way to create vector environments is by calling `gym.vector.make`, which creates multiple instances of the same environment:\n",
    "\n",
    "\n"
   ]
  },
  {
   "cell_type": "code",
   "execution_count": 4,
   "metadata": {
    "collapsed": false,
    "jupyter": {
     "outputs_hidden": false
    }
   },
   "outputs": [],
   "source": [
    "envs = gym.make_vec(\"LunarLander-v3\", num_envs=3, max_episode_steps=600)"
   ]
  },
  {
   "cell_type": "markdown",
   "metadata": {},
   "source": [
    "## Domain Randomization\n",
    "\n",
    "If we want to randomize the environment for training to get more robust agents (that can deal with different parameterizations of an environment\n",
    "and theirfore might have a higher degree of generalization), we can set the desired parameters manually or use a pseudo-random number generator to generate them.\n",
    "\n",
    "Manually setting up 3 parallel 'LunarLander-v3' envs with different parameters:\n",
    "\n"
   ]
  },
  {
   "cell_type": "code",
   "execution_count": 5,
   "metadata": {
    "collapsed": false,
    "jupyter": {
     "outputs_hidden": false
    }
   },
   "outputs": [],
   "source": [
    "envs = gym.vector.SyncVectorEnv(\n",
    "    [\n",
    "        lambda: gym.make(\n",
    "            \"LunarLander-v3\",\n",
    "            gravity=-10.0,\n",
    "            enable_wind=True,\n",
    "            wind_power=15.0,\n",
    "            turbulence_power=1.5,\n",
    "            max_episode_steps=600,\n",
    "        ),\n",
    "        lambda: gym.make(\n",
    "            \"LunarLander-v3\",\n",
    "            gravity=-9.8,\n",
    "            enable_wind=True,\n",
    "            wind_power=10.0,\n",
    "            turbulence_power=1.3,\n",
    "            max_episode_steps=600,\n",
    "        ),\n",
    "        lambda: gym.make(\n",
    "            \"LunarLander-v3\", gravity=-7.0, enable_wind=False, max_episode_steps=600\n",
    "        ),\n",
    "    ]\n",
    ")"
   ]
  },
  {
   "cell_type": "markdown",
   "metadata": {},
   "source": [
    "Randomly generating the parameters for 3 parallel 'LunarLander-v3' envs, using `np.clip` to stay in the recommended parameter space:"
   ]
  },
  {
   "cell_type": "code",
   "execution_count": 6,
   "metadata": {
    "collapsed": false,
    "jupyter": {
     "outputs_hidden": false
    }
   },
   "outputs": [],
   "source": [
    "envs = gym.vector.SyncVectorEnv(\n",
    "    [\n",
    "        lambda: gym.make(\n",
    "            \"LunarLander-v3\",\n",
    "            gravity=np.clip(\n",
    "                np.random.normal(loc=-10.0, scale=1.0), a_min=-11.99, a_max=-0.01\n",
    "            ),\n",
    "            enable_wind=np.random.choice([True, False]),\n",
    "            wind_power=np.clip(\n",
    "                np.random.normal(loc=15.0, scale=1.0), a_min=0.01, a_max=19.99\n",
    "            ),\n",
    "            turbulence_power=np.clip(\n",
    "                np.random.normal(loc=1.5, scale=0.5), a_min=0.01, a_max=1.99\n",
    "            ),\n",
    "            max_episode_steps=600,\n",
    "        )\n",
    "        for i in range(3)\n",
    "    ]\n",
    ")"
   ]
  },
  {
   "cell_type": "markdown",
   "metadata": {},
   "source": [
    "Here we are using normal distributions with the standard parameterization of the environment as the mean and an arbitrary standard deviation (scale).\n",
    "Depending on the problem, you can experiment with higher variance and use different distributions as well.\n",
    "\n",
    "If you are training on the same `n_envs` environments for the entire training time, and `n_envs` is a relatively low number\n",
    "(in proportion to how complex the environment is), you might still get some overfitting to the specific parameterizations that you picked.\n",
    "To mitigate this, you can either pick a high number of randomly parameterized environments or remake your environments every couple of sampling phases\n",
    "to generate a new set of pseudo-random parameters."
   ]
  },
  {
   "cell_type": "markdown",
   "metadata": {},
   "source": [
    "## Setup\n",
    "\n",
    "\n"
   ]
  },
  {
   "cell_type": "code",
   "execution_count": 7,
   "metadata": {
    "collapsed": false,
    "jupyter": {
     "outputs_hidden": false
    }
   },
   "outputs": [],
   "source": [
    "# environment hyperparams\n",
    "n_envs = 10\n",
    "n_updates = 1000\n",
    "n_steps_per_update = 128\n",
    "randomize_domain = False\n",
    "\n",
    "# agent hyperparams\n",
    "gamma = 0.999\n",
    "lam = 0.95  # hyperparameter for GAE\n",
    "ent_coef = 0.01  # coefficient for the entropy bonus (to encourage exploration)\n",
    "actor_lr = 0.001\n",
    "critic_lr = 0.005\n",
    "\n",
    "# Note: the actor has a slower learning rate so that the value targets become\n",
    "# more stationary and are theirfore easier to estimate for the critic\n",
    "\n",
    "# environment setup\n",
    "if randomize_domain:\n",
    "    envs = gym.vector.AsyncVectorEnv(\n",
    "        [\n",
    "            lambda: gym.make(\n",
    "                \"LunarLander-v3\",\n",
    "                gravity=np.clip(\n",
    "                    np.random.normal(loc=-10.0, scale=1.0), a_min=-11.99, a_max=-0.01\n",
    "                ),\n",
    "                enable_wind=np.random.choice([True, False]),\n",
    "                wind_power=np.clip(\n",
    "                    np.random.normal(loc=15.0, scale=1.0), a_min=0.01, a_max=19.99\n",
    "                ),\n",
    "                turbulence_power=np.clip(\n",
    "                    np.random.normal(loc=1.5, scale=0.5), a_min=0.01, a_max=1.99\n",
    "                ),\n",
    "                max_episode_steps=600,\n",
    "            )\n",
    "            for i in range(n_envs)\n",
    "        ]\n",
    "    )\n",
    "\n",
    "else:\n",
    "    envs = gym.make_vec(\"LunarLander-v3\", num_envs=n_envs, max_episode_steps=600)\n",
    "\n",
    "\n",
    "obs_shape = envs.single_observation_space.shape[0]\n",
    "action_shape = envs.single_action_space.n\n",
    "\n",
    "# set the device\n",
    "use_cuda = False\n",
    "if use_cuda:\n",
    "    device = torch.device(\"cuda\" if torch.cuda.is_available() else \"cpu\")\n",
    "else:\n",
    "    device = torch.device(\"cpu\")\n",
    "\n",
    "# init the agent\n",
    "agent = A2C(obs_shape, action_shape, device, critic_lr, actor_lr, n_envs)"
   ]
  },
  {
   "cell_type": "markdown",
   "metadata": {},
   "source": [
    "## Training the A2C Agent\n",
    "\n",
    "For our training loop, we are using the `RecordEpisodeStatistics` wrapper to record the episode lengths and returns and we are also saving\n",
    "the losses and entropies to plot them after the agent finished training.\n",
    "\n",
    "You may notice that we don't reset the vectorized envs at the start of each episode like we would usually do.\n",
    "This is because each environment resets automatically once the episode finishes (each environment takes a different number of timesteps to finish\n",
    "an episode because of the random seeds). As a result, we are also not collecting data in `episodes`, but rather just play a certain number of steps\n",
    "(`n_steps_per_update`) in each environment (as an example, this could mean that we play 20 timesteps to finish an episode and then\n",
    "use the rest of the timesteps to begin a new one).\n",
    "\n",
    "\n"
   ]
  },
  {
   "cell_type": "code",
   "execution_count": 8,
   "metadata": {
    "collapsed": false,
    "jupyter": {
     "outputs_hidden": false
    }
   },
   "outputs": [
    {
     "name": "stderr",
     "output_type": "stream",
     "text": [
      "100%|██████████████████████████████████████████████████████████████████████████████| 1000/1000 [03:24<00:00,  4.88it/s]\n"
     ]
    }
   ],
   "source": [
    "# create a wrapper environment to save episode returns and episode lengths\n",
    "envs_wrapper = gym.wrappers.vector.RecordEpisodeStatistics(\n",
    "    envs, buffer_length=n_envs * n_updates\n",
    ")\n",
    "\n",
    "critic_losses = []\n",
    "actor_losses = []\n",
    "entropies = []\n",
    "\n",
    "# use tqdm to get a progress bar for training\n",
    "for sample_phase in tqdm(range(n_updates)):\n",
    "    # we don't have to reset the envs, they just continue playing\n",
    "    # until the episode is over and then reset automatically\n",
    "\n",
    "    # reset lists that collect experiences of an episode (sample phase)\n",
    "    ep_value_preds = torch.zeros(n_steps_per_update, n_envs, device=device)\n",
    "    ep_rewards = torch.zeros(n_steps_per_update, n_envs, device=device)\n",
    "    ep_action_log_probs = torch.zeros(n_steps_per_update, n_envs, device=device)\n",
    "    masks = torch.zeros(n_steps_per_update, n_envs, device=device)\n",
    "\n",
    "    # at the start of training reset all envs to get an initial state\n",
    "    if sample_phase == 0:\n",
    "        states, info = envs_wrapper.reset(seed=42)\n",
    "\n",
    "    # play n steps in our parallel environments to collect data\n",
    "    for step in range(n_steps_per_update):\n",
    "        # select an action A_{t} using S_{t} as input for the agent\n",
    "        actions, action_log_probs, state_value_preds, entropy = agent.select_action(\n",
    "            states\n",
    "        )\n",
    "\n",
    "        # perform the action A_{t} in the environment to get S_{t+1} and R_{t+1}\n",
    "        states, rewards, terminated, truncated, infos = envs_wrapper.step(\n",
    "            actions.cpu().numpy()\n",
    "        )\n",
    "\n",
    "        ep_value_preds[step] = torch.squeeze(state_value_preds)\n",
    "        ep_rewards[step] = torch.tensor(rewards, device=device)\n",
    "        ep_action_log_probs[step] = action_log_probs\n",
    "\n",
    "        # add a mask (for the return calculation later);\n",
    "        # for each env the mask is 1 if the episode is ongoing and 0 if it is terminated (not by truncation!)\n",
    "        masks[step] = torch.tensor([not term for term in terminated])\n",
    "\n",
    "    # calculate the losses for actor and critic\n",
    "    critic_loss, actor_loss = agent.get_losses(\n",
    "        ep_rewards,\n",
    "        ep_action_log_probs,\n",
    "        ep_value_preds,\n",
    "        entropy,\n",
    "        masks,\n",
    "        gamma,\n",
    "        lam,\n",
    "        ent_coef,\n",
    "        device,\n",
    "    )\n",
    "\n",
    "    # update the actor and critic networks\n",
    "    agent.update_parameters(critic_loss, actor_loss)\n",
    "\n",
    "    # log the losses and entropy\n",
    "    critic_losses.append(critic_loss.detach().cpu().numpy())\n",
    "    actor_losses.append(actor_loss.detach().cpu().numpy())\n",
    "    entropies.append(entropy.detach().mean().cpu().numpy())"
   ]
  },
  {
   "cell_type": "markdown",
   "metadata": {},
   "source": [
    "## Plotting\n",
    "\n",
    "\n"
   ]
  },
  {
   "cell_type": "code",
   "execution_count": 9,
   "metadata": {
    "collapsed": false,
    "jupyter": {
     "outputs_hidden": false
    }
   },
   "outputs": [
    {
     "data": {
      "image/png": "[encoded data removed]",
      "text/plain": [
       "<Figure size 1200x500 with 4 Axes>"
      ]
     },
     "metadata": {},
     "output_type": "display_data"
    }
   ],
   "source": [
    "\"\"\" plot the results \"\"\"\n",
    "\n",
    "# %matplotlib inline\n",
    "\n",
    "rolling_length = 20\n",
    "fig, axs = plt.subplots(nrows=2, ncols=2, figsize=(12, 5))\n",
    "fig.suptitle(\n",
    "    f\"Training plots for {agent.__class__.__name__} in the LunarLander-v3 environment \\n \\\n",
    "             (n_envs={n_envs}, n_steps_per_update={n_steps_per_update}, randomize_domain={randomize_domain})\"\n",
    ")\n",
    "\n",
    "# episode return\n",
    "axs[0][0].set_title(\"Episode Returns\")\n",
    "episode_returns_moving_average = (\n",
    "    np.convolve(\n",
    "        np.array(envs_wrapper.return_queue).flatten(),\n",
    "        np.ones(rolling_length),\n",
    "        mode=\"valid\",\n",
    "    )\n",
    "    / rolling_length\n",
    ")\n",
    "axs[0][0].plot(\n",
    "    np.arange(len(episode_returns_moving_average)) / n_envs,\n",
    "    episode_returns_moving_average,\n",
    ")\n",
    "axs[0][0].set_xlabel(\"Number of episodes\")\n",
    "\n",
    "# entropy\n",
    "axs[1][0].set_title(\"Entropy\")\n",
    "entropy_moving_average = (\n",
    "    np.convolve(np.array(entropies), np.ones(rolling_length), mode=\"valid\")\n",
    "    / rolling_length\n",
    ")\n",
    "axs[1][0].plot(entropy_moving_average)\n",
    "axs[1][0].set_xlabel(\"Number of updates\")\n",
    "\n",
    "\n",
    "# critic loss\n",
    "axs[0][1].set_title(\"Critic Loss\")\n",
    "critic_losses_moving_average = (\n",
    "    np.convolve(\n",
    "        np.array(critic_losses).flatten(), np.ones(rolling_length), mode=\"valid\"\n",
    "    )\n",
    "    / rolling_length\n",
    ")\n",
    "axs[0][1].plot(critic_losses_moving_average)\n",
    "axs[0][1].set_xlabel(\"Number of updates\")\n",
    "\n",
    "\n",
    "# actor loss\n",
    "axs[1][1].set_title(\"Actor Loss\")\n",
    "actor_losses_moving_average = (\n",
    "    np.convolve(np.array(actor_losses).flatten(), np.ones(rolling_length), mode=\"valid\")\n",
    "    / rolling_length\n",
    ")\n",
    "axs[1][1].plot(actor_losses_moving_average)\n",
    "axs[1][1].set_xlabel(\"Number of updates\")\n",
    "\n",
    "plt.tight_layout()\n",
    "plt.show()"
   ]
  },
  {
   "cell_type": "markdown",
   "metadata": {},
   "source": [
    "## Saving/ Loading Weights\n",
    "\n",
    "\n"
   ]
  },
  {
   "cell_type": "code",
   "execution_count": 10,
   "metadata": {
    "collapsed": false,
    "jupyter": {
     "outputs_hidden": false
    }
   },
   "outputs": [],
   "source": [
    "save_weights = False\n",
    "load_weights = False\n",
    "\n",
    "actor_weights_path = \"weights/actor_weights.h5\"\n",
    "critic_weights_path = \"weights/critic_weights.h5\"\n",
    "\n",
    "if not os.path.exists(\"weights\"):\n",
    "    os.mkdir(\"weights\")\n",
    "\n",
    "\"\"\" save network weights \"\"\"\n",
    "if save_weights:\n",
    "    torch.save(agent.actor.state_dict(), actor_weights_path)\n",
    "    torch.save(agent.critic.state_dict(), critic_weights_path)\n",
    "\n",
    "\n",
    "\"\"\" load network weights \"\"\"\n",
    "if load_weights:\n",
    "    agent = A2C(obs_shape, action_shape, device, critic_lr, actor_lr)\n",
    "\n",
    "    agent.actor.load_state_dict(torch.load(actor_weights_path))\n",
    "    agent.critic.load_state_dict(torch.load(critic_weights_path))\n",
    "    agent.actor.eval()\n",
    "    agent.critic.eval()"
   ]
  },
  {
   "cell_type": "markdown",
   "metadata": {},
   "source": [
    "## Showcase the Agent\n",
    "\n",
    "\n"
   ]
  },
  {
   "cell_type": "code",
   "execution_count": 11,
   "metadata": {
    "collapsed": false,
    "jupyter": {
     "outputs_hidden": false
    }
   },
   "outputs": [
    {
     "name": "stdout",
     "output_type": "stream",
     "text": [
      "starting episode 0...\n",
      "starting episode 1...\n",
      "starting episode 2...\n"
     ]
    }
   ],
   "source": [
    "\"\"\" play a couple of showcase episodes \"\"\"\n",
    "\n",
    "n_showcase_episodes = 3\n",
    "\n",
    "for episode in range(n_showcase_episodes):\n",
    "    print(f\"starting episode {episode}...\")\n",
    "\n",
    "    # create a new sample environment to get new random parameters\n",
    "    if randomize_domain:\n",
    "        env = gym.make(\n",
    "            \"LunarLander-v3\",\n",
    "            render_mode=\"human\",\n",
    "            gravity=np.clip(\n",
    "                np.random.normal(loc=-10.0, scale=2.0), a_min=-11.99, a_max=-0.01\n",
    "            ),\n",
    "            enable_wind=np.random.choice([True, False]),\n",
    "            wind_power=np.clip(\n",
    "                np.random.normal(loc=15.0, scale=2.0), a_min=0.01, a_max=19.99\n",
    "            ),\n",
    "            turbulence_power=np.clip(\n",
    "                np.random.normal(loc=1.5, scale=1.0), a_min=0.01, a_max=1.99\n",
    "            ),\n",
    "            max_episode_steps=500,\n",
    "        )\n",
    "    else:\n",
    "        env = gym.make(\"LunarLander-v3\", render_mode=\"human\", max_episode_steps=500)\n",
    "\n",
    "    # get an initial state\n",
    "    state, info = env.reset()\n",
    "\n",
    "    # play one episode\n",
    "    done = False\n",
    "    while not done:\n",
    "        # select an action A_{t} using S_{t} as input for the agent\n",
    "        with torch.no_grad():\n",
    "            action, _, _, _ = agent.select_action(state[None, :])\n",
    "\n",
    "        # perform the action A_{t} in the environment to get S_{t+1} and R_{t+1}\n",
    "        state, reward, terminated, truncated, info = env.step(action.item())\n",
    "\n",
    "        # update if the environment is done\n",
    "        done = terminated or truncated\n",
    "\n",
    "env.close()"
   ]
  },
  {
   "cell_type": "markdown",
   "metadata": {},
   "source": [
    "## Try playing the environment yourself\n",
    "\n",
    "\n"
   ]
  },
  {
   "cell_type": "code",
   "execution_count": null,
   "metadata": {
    "collapsed": false,
    "jupyter": {
     "outputs_hidden": false
    }
   },
   "outputs": [],
   "source": [
    "# from gymnasium.utils.play import play\n",
    "#\n",
    "# play(gym.make('LunarLander-v3', render_mode='rgb_array'),\n",
    "#     keys_to_action={'w': 2, 'a': 1, 'd': 3}, noop=0)"
   ]
  }
 ],
 "metadata": {
  "kernelspec": {
   "display_name": "Python (RL)",
   "language": "python",
   "name": "your_env_name"
  },
  "language_info": {
   "codemirror_mode": {
    "name": "ipython",
    "version": 3
   },
   "file_extension": ".py",
   "mimetype": "text/x-python",
   "name": "python",
   "nbconvert_exporter": "python",
   "pygments_lexer": "ipython3",
   "version": "3.12.3"
  }
 },
 "nbformat": 4,
 "nbformat_minor": 4
}
